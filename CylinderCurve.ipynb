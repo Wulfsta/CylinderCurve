{
 "cells": [
  {
   "cell_type": "code",
   "execution_count": null,
   "metadata": {},
   "outputs": [],
   "source": [
    "# Summary: A simple approximation of the curve resulting from cutting an elliptic cylinder at some \n",
    "# angle (cut), and rolling it across a plane so that the cut traces a curve.\n",
    "#\n",
    "# Author: Luke V\n",
    "\n",
    "a = 1          # x radius length\n",
    "b = 1          # y radius length\n",
    "cut = pi / 4   # angle of plane\n",
    "\n",
    "theta = var('theta')\n",
    "phi = var('phi')\n",
    "diffx = diff(a * cos(theta), theta)\n",
    "diffy = diff(b * sin(theta), theta)\n",
    "func = (diffx^2 + diffy^2)^(1 / 2)\n",
    "\n",
    "def getnumerical(i):\n",
    "    return numerical_integral(func, 0, i)[0]\n",
    "\n",
    "parametric_plot((getnumerical, b * tan(cut) * sin(phi)), (phi, 3 * pi / 2, 7 * pi / 2), aspect_ratio=1)"
   ]
  }
 ],
 "metadata": {
  "kernelspec": {
   "display_name": "SageMath 8.0.rc1",
   "language": "",
   "name": "sagemath"
  },
  "language": "python",
  "language_info": {
   "codemirror_mode": {
    "name": "ipython",
    "version": 2
   },
   "file_extension": ".py",
   "mimetype": "text/x-python",
   "name": "python",
   "nbconvert_exporter": "python",
   "pygments_lexer": "ipython2",
   "version": "2.7.13"
  }
 },
 "nbformat": 4,
 "nbformat_minor": 2
}
